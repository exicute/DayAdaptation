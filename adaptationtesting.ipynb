{
 "cells": [
  {
   "cell_type": "code",
   "execution_count": 1,
   "metadata": {},
   "outputs": [],
   "source": [
    "import pandas as pd\n",
    "import numpy as np\n",
    "import requests\n",
    "from datetime import datetime\n",
    "import dateutil.relativedelta\n",
    "import math\n",
    "import pygsheets\n",
    "import os\n",
    "import sys\n",
    "nb_dir = os.path.split(os.getcwd())[0]\n",
    "if nb_dir not in sys.path:\n",
    "    sys.path.append(nb_dir)\n",
    "\n",
    "from adaptation import ExcelReview"
   ]
  },
  {
   "cell_type": "code",
   "execution_count": 2,
   "metadata": {},
   "outputs": [],
   "source": [
    "token_new_bi = 'HtdQ1pqETq'\n",
    "token_cosm_bi = 'lpLLZsHACx'\n",
    "\n",
    "current_date = datetime.today()\n",
    "c_day = current_date.day\n",
    "c_month = current_date.month\n",
    "c_year = current_date.year\n",
    "\n",
    "four_month_date = current_date - dateutil.relativedelta.relativedelta(days=-1)\n",
    "f_day = four_month_date.day\n",
    "f_month = four_month_date.month\n",
    "f_year = four_month_date.year"
   ]
  },
  {
   "cell_type": "code",
   "execution_count": 4,
   "metadata": {},
   "outputs": [],
   "source": [
    "cat_str = \"Баннер, АВИТО (Ручная подача), Авито (Покупка услуг), Авито (руч. подача), Авито - поднятие объявлений, Авито реклама, Баннер, Баннеры, Баннеры на колышках, Баннеры-г.Челябинск, Баннеры-ручное списание, Брендовая расклейка, Визитки, Визитки г. Пыть-Ях, Визитки-наклейки, Выгрузка за объявления на МЛСН, Выгрузка на сайты, Выгрузка объявлений на сайты (автовыгрузка), Дополнительный статус на Авито, За Баннеры, За баннеры, За визитки, За поднятие объявления на сайте Авито, За рекламу, За рекламу на АВИТО, За услуги расклейщика, Заказ баннера, Заказ баннеров, Заказ баннеров/фолий, Заказ визиток, Изготовление Баннеров-г.Когалым, Изготовление баннеров, Индивидуальная реклама, Использование баннера, Клей для расклейки, Листовки, Листовки , Маркетинг, Монтаж баннера, Наклейка на окно , Наклейка-визитка, Наклейки, Наклейки на авто, Наклейки на автомобиль, Наклейки на стекла, Объявление Авито, Объявление в газеты, Объявление на сайт N1, Объявление на сайт Авито , Объявление на сайты, Объявление на сайты , Объявление на сайты АвитоPro, Объявления в газеты, Объявления на АВИТО, Объявления на сайт 63.ru, Объявления на сайт АВИТО, Объявления на сайт Авито, Объявления на сайт Авито (ручная выгрузка), Объявления на сайт Из рук в руки, Объявления на сайт Сибдом, Объявления на сайт Циан (ручная выгрузка), Объявления на сайт ЯКТ, Объявления на сайте Avito, Объявления на сайты, Оплата размещения на авито, Оплата расклейщикам, Печать расклейки, Платная выгрузка, Применение платного статуса на Авито, Размещения объявлений на сайт авито, Расклейка, Расклейка объявлений , Расклейщик, Реклама, Реклама на АВИТО, Реклама на Авито, Рекламные листовки, Рекламные расходы, Служба сервиса: расклейка, Служба сервиса: фотографирование, Создание баннеров, Создание визиток, Создание наклеек на авто, Списание за баннер, Списание за визитки, Списание за объявления на сайт ЕМЛС, Списание за расклейку, Списание за рекламу на Авито, Списание на рекламу, Списание с бонусного счета (Авито), Строчная реклама, Услуги расклейщика, ЦИАН (ручная подача), Циан (ручная подача), баннеры, визитка в авто, визитки, доп.статусы на Авито, заказ баннера, заказ баннеров, заказ визиток, заказ наклеек, монтаж баннера, наклейка на автомобиль, наклейка на стекло, оплата баннеров, печать визиток, печать расклейки, платный статус, размещение объявлений в газету, расклейка\"\n",
    "cat_list = cat_str.split(', ')\n",
    "\n",
    "req_zatrati_rekl = {\n",
    "    \"token\": token_new_bi,\n",
    "    \"report_id\": 393,\n",
    "    \"fields\": [\"city_name\", \"fio\", \"summ\", \"payment_date\"],\n",
    "    \"filter_query\":[\n",
    "        {\n",
    "            \"field\": \"payment_date\",\n",
    "            \"values\": [f\"{f_year}-11-3 TO {c_year}-11-4\"],\n",
    "            \"type\": \"date\"\n",
    "        },\n",
    "        {\n",
    "            \"field\": \"cat_name\",\n",
    "            \"values\": cat_list\n",
    "        }\n",
    "    ],\n",
    "    \"rows\": 10000,\n",
    "    \"start\": 0\n",
    "}\n",
    "\n",
    "def make_table_req_zatrati_rekl(table):\n",
    "    table['payment_date'] = pd.to_datetime(table['payment_date'])\n",
    "    table['date'] = table['payment_date'].apply(lambda x: x.strftime('%Y-%m-%d'))\n",
    "\n",
    "    table['summ'] = table['summ'].astype(float)\n",
    "    end_table = table.pivot_table('summ', ['city_name', 'fio'], 'date', aggfunc=\"sum\")\n",
    "    end_table = end_table.fillna(0)\n",
    "    #end_table['summing'] = end_table.sum(axis=1)\n",
    "    end_table = end_table.reset_index()\n",
    "    \n",
    "    date_column = f\"{f_year}-11-03\"\n",
    "    end_table[date_column] = end_table[date_column].astype(str)\n",
    "    end_table[date_column] = end_table[date_column].apply(lambda x: x.replace('.', ','))\n",
    "\n",
    "    return end_table\n",
    "\n",
    "req_zatrati_rekl = ExcelReview(req_zatrati_rekl)\n",
    "req_zatrati_rekl.df = make_table_req_zatrati_rekl(req_zatrati_rekl.get_table())\n",
    "\n",
    "#req_zatrati_rekl.load_full_table('1plph8ILPblP1G_Mnk58VP02pf2jZ7eiTtgb2IVi5AFo', 'РекламаДень', 'a1')\n",
    "req_zatrati_rekl.load_by_day('1plph8ILPblP1G_Mnk58VP02pf2jZ7eiTtgb2IVi5AFo', 'РекламаДень', 'fio', ['city_name'])"
   ]
  },
  {
   "cell_type": "code",
   "execution_count": null,
   "metadata": {},
   "outputs": [],
   "source": [
    "zayv_na_pokup ={}"
   ]
  },
  {
   "cell_type": "code",
   "execution_count": null,
   "metadata": {},
   "outputs": [],
   "source": [
    "objects_in_base = {}"
   ]
  },
  {
   "cell_type": "code",
   "execution_count": null,
   "metadata": {},
   "outputs": [],
   "source": [
    "podborki = {}"
   ]
  },
  {
   "cell_type": "code",
   "execution_count": null,
   "metadata": {},
   "outputs": [],
   "source": [
    "pokazi_pokupatel = {}"
   ]
  },
  {
   "cell_type": "code",
   "execution_count": null,
   "metadata": {},
   "outputs": [],
   "source": [
    "ipotech_consult = {}"
   ]
  },
  {
   "cell_type": "code",
   "execution_count": null,
   "metadata": {},
   "outputs": [],
   "source": [
    "zayv_ipotek_bank = {}"
   ]
  },
  {
   "cell_type": "code",
   "execution_count": null,
   "metadata": {},
   "outputs": [],
   "source": []
  },
  {
   "cell_type": "code",
   "execution_count": null,
   "metadata": {},
   "outputs": [],
   "source": []
  },
  {
   "cell_type": "code",
   "execution_count": null,
   "metadata": {},
   "outputs": [],
   "source": []
  },
  {
   "cell_type": "code",
   "execution_count": null,
   "metadata": {},
   "outputs": [],
   "source": [
    "#load_by_day - обновляет таблицу на ежедневной основе\n",
    "#load_full_table - загружает первый день в начале месяца\n",
    "#для make_sort_table нужны поля из таблицы, которые влияют на merge"
   ]
  },
  {
   "cell_type": "code",
   "execution_count": null,
   "metadata": {},
   "outputs": [],
   "source": [
    "#выкачать всю таблицу, сделать merge со всей таблицей\n",
    "#т.к. в таблице сгрупированные данные выкачиваться и закачиваться будет не долго"
   ]
  }
 ],
 "metadata": {
  "kernelspec": {
   "display_name": "Python 3",
   "language": "python",
   "name": "python3"
  },
  "language_info": {
   "codemirror_mode": {
    "name": "ipython",
    "version": 3
   },
   "file_extension": ".py",
   "mimetype": "text/x-python",
   "name": "python",
   "nbconvert_exporter": "python",
   "pygments_lexer": "ipython3",
   "version": "3.9.0"
  },
  "orig_nbformat": 4
 },
 "nbformat": 4,
 "nbformat_minor": 2
}
