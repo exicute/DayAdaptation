{
 "cells": [
  {
   "cell_type": "code",
   "execution_count": 2,
   "metadata": {},
   "outputs": [],
   "source": [
    "import pandas as pd\n",
    "import numpy as np\n",
    "import requests\n",
    "from datetime import datetime\n",
    "import dateutil.relativedelta\n",
    "import math\n",
    "import pygsheets\n",
    "import os\n",
    "import sys\n",
    "nb_dir = os.path.split(os.getcwd())[0]\n",
    "if nb_dir not in sys.path:\n",
    "    sys.path.append(nb_dir)\n",
    "\n",
    "from adaptation import ExcelReview"
   ]
  },
  {
   "cell_type": "code",
   "execution_count": 3,
   "metadata": {},
   "outputs": [],
   "source": [
    "token_new_bi = 'HtdQ1pqETq'\n",
    "token_cosm_bi = 'lpLLZsHACx'\n",
    "\n",
    "current_date = datetime.today()\n",
    "c_day = current_date.day\n",
    "c_month = current_date.month\n",
    "c_year = current_date.year\n",
    "\n",
    "yesterday_date = current_date - dateutil.relativedelta.relativedelta(days=1)\n",
    "y_day = yesterday_date.day\n",
    "y_month = yesterday_date.month\n",
    "y_year = yesterday_date.year\n",
    "\n",
    "\n",
    "seven_month_date = current_date - dateutil.relativedelta.relativedelta(month=7)\n",
    "s_day = seven_month_date.day\n",
    "s_month = seven_month_date.month\n",
    "s_year = seven_month_date.year"
   ]
  },
  {
   "cell_type": "code",
   "execution_count": 4,
   "metadata": {},
   "outputs": [],
   "source": [
    "cat_str = \"Баннер, АВИТО (Ручная подача), Авито (Покупка услуг), Авито (руч. подача), Авито - поднятие объявлений, Авито реклама, Баннер, Баннеры, Баннеры на колышках, Баннеры-г.Челябинск, Баннеры-ручное списание, Брендовая расклейка, Визитки, Визитки г. Пыть-Ях, Визитки-наклейки, Выгрузка за объявления на МЛСН, Выгрузка на сайты, Выгрузка объявлений на сайты (автовыгрузка), Дополнительный статус на Авито, За Баннеры, За баннеры, За визитки, За поднятие объявления на сайте Авито, За рекламу, За рекламу на АВИТО, За услуги расклейщика, Заказ баннера, Заказ баннеров, Заказ баннеров/фолий, Заказ визиток, Изготовление Баннеров-г.Когалым, Изготовление баннеров, Индивидуальная реклама, Использование баннера, Клей для расклейки, Листовки, Листовки , Маркетинг, Монтаж баннера, Наклейка на окно , Наклейка-визитка, Наклейки, Наклейки на авто, Наклейки на автомобиль, Наклейки на стекла, Объявление Авито, Объявление в газеты, Объявление на сайт N1, Объявление на сайт Авито , Объявление на сайты, Объявление на сайты , Объявление на сайты АвитоPro, Объявления в газеты, Объявления на АВИТО, Объявления на сайт 63.ru, Объявления на сайт АВИТО, Объявления на сайт Авито, Объявления на сайт Авито (ручная выгрузка), Объявления на сайт Из рук в руки, Объявления на сайт Сибдом, Объявления на сайт Циан (ручная выгрузка), Объявления на сайт ЯКТ, Объявления на сайте Avito, Объявления на сайты, Оплата размещения на авито, Оплата расклейщикам, Печать расклейки, Платная выгрузка, Применение платного статуса на Авито, Размещения объявлений на сайт авито, Расклейка, Расклейка объявлений , Расклейщик, Реклама, Реклама на АВИТО, Реклама на Авито, Рекламные листовки, Рекламные расходы, Служба сервиса: расклейка, Служба сервиса: фотографирование, Создание баннеров, Создание визиток, Создание наклеек на авто, Списание за баннер, Списание за визитки, Списание за объявления на сайт ЕМЛС, Списание за расклейку, Списание за рекламу на Авито, Списание на рекламу, Списание с бонусного счета (Авито), Строчная реклама, Услуги расклейщика, ЦИАН (ручная подача), Циан (ручная подача), баннеры, визитка в авто, визитки, доп.статусы на Авито, заказ баннера, заказ баннеров, заказ визиток, заказ наклеек, монтаж баннера, наклейка на автомобиль, наклейка на стекло, оплата баннеров, печать визиток, печать расклейки, платный статус, размещение объявлений в газету, расклейка\"\n",
    "cat_list = cat_str.split(', ')\n",
    "\n",
    "req_zatrati_rekl = {\n",
    "    \"token\": token_new_bi,\n",
    "    \"report_id\": 393,\n",
    "    \"fields\": [\"city_name\", \"fio\", \"summ\", \"payment_date\"],\n",
    "    \"filter_query\":[\n",
    "        {\n",
    "            \"field\": \"payment_date\",\n",
    "            \"values\": [f\"{y_year}-{y_month}-{y_day} TO {c_year}-{c_month}-{c_day}\"],\n",
    "            \"type\": \"date\"\n",
    "        },\n",
    "        {\n",
    "            \"field\": \"cat_name\",\n",
    "            \"values\": cat_list\n",
    "        }\n",
    "    ],\n",
    "    \"rows\": 10000,\n",
    "    \"start\": 0\n",
    "}\n",
    "\n",
    "def make_table_req_zatrati_rekl(table):\n",
    "    table['payment_date'] = pd.to_datetime(table['payment_date'])\n",
    "    table['date'] = table['payment_date'].apply(lambda x: x.strftime('%Y-%m-%d'))\n",
    "\n",
    "    table['summ'] = table['summ'].astype(float)\n",
    "    end_table = table.pivot_table('summ', ['city_name', 'fio'], 'date', aggfunc=\"sum\")\n",
    "    end_table = end_table.fillna(0)\n",
    "    #end_table['summing'] = end_table.sum(axis=1)\n",
    "    end_table = end_table.reset_index()\n",
    "    \n",
    "    date_column = f\"{y_year}-{y_month}-{y_day}\"\n",
    "    end_table[date_column] = end_table[date_column].astype(str)\n",
    "    end_table[date_column] = end_table[date_column].apply(lambda x: x.replace('.', ','))\n",
    "\n",
    "    return end_table\n",
    "\n",
    "req_zatrati_rekl = ExcelReview(req_zatrati_rekl)\n",
    "req_zatrati_rekl.df = make_table_req_zatrati_rekl(req_zatrati_rekl.get_table())\n",
    "\n",
    "#req_zatrati_rekl.load_full_table('1plph8ILPblP1G_Mnk58VP02pf2jZ7eiTtgb2IVi5AFo', 'РекламаДень', 'a1')\n",
    "req_zatrati_rekl.load_by_day('1plph8ILPblP1G_Mnk58VP02pf2jZ7eiTtgb2IVi5AFo', 'РекламаДень', 'fio', ['city_name'])"
   ]
  },
  {
   "cell_type": "code",
   "execution_count": null,
   "metadata": {},
   "outputs": [],
   "source": [
    "del req_zatrati_rekl"
   ]
  },
  {
   "cell_type": "code",
   "execution_count": 14,
   "metadata": {},
   "outputs": [],
   "source": [
    "zayv_type = 'Дистанционная покупка, Новостройки, Покупка вторичная, Покупка гаражи, Покупка загородной, Покупка загородной элитной недвижимости , Покупка коммерческой, Покупка элитная'\n",
    "zayv_type = zayv_type.split(', ')\n",
    "\n",
    "zayv_status = 'deposit, free, open'\n",
    "zayv_status = zayv_status.split(', ')\n",
    "\n",
    "zayv_reason = ', , Другое, Клиент отказался от фотографирования, На контроле у риэлтора, Нет ответа, Объект на задатке, Объект продан, Объект удален, Отмена, Продажа объекта приостановлена, Риэлтор отказался от фотографирования, Риэлтор самостоятельно сфотографировал объект, Семейные обстоятельства, выбран неверный город, консультация, купили/продали, не актуально (без причин), не доступен, не отвечает, нереальная потребность, нет подходящих объектов, объект находится далеко, отказались из-за комиссии, отложена, думают, передано другому риэлтору, передумали, по давности, сдали/сняли, сняли с другим АН'\n",
    "zayv_reason = zayv_reason.split(', ')\n",
    "\n",
    "\n",
    "zayv_na_pokup = {\n",
    "    'token': token_new_bi,\n",
    "    'report_id': 242,\n",
    "    'fields': ['realtor', 'u_city', 'ticket_id'],\n",
    "    'filter_query': [\n",
    "        {\n",
    "            'field': 'type_name',\n",
    "            'values': zayv_type\n",
    "        },\n",
    "        {\n",
    "            'field': 'status',\n",
    "            'values': zayv_status\n",
    "        }, \n",
    "        {\n",
    "            'field': 'reason',\n",
    "            'values': zayv_reason\n",
    "        },\n",
    "        {\n",
    "            'field': 'realtor_start_date',\n",
    "            \"values\": [f\"{s_year}-{s_month}-01 TO {c_year}-{c_month}-{c_day}\"],\n",
    "            \"type\": \"date\"\n",
    "        }\n",
    "    ],\n",
    "    \"rows\": 10000,\n",
    "    \"start\": 0\n",
    "}\n",
    "\n",
    "\n",
    "def make_table_zayv_na_pokup(table):\n",
    "    table['ticket_id'] = table['ticket_id'].astype(str)\n",
    "    \n",
    "    table = table.pivot_table('ticket_id', ['realtor', 'u_city'], aggfunc='count')\n",
    "    table = table.reset_index()\n",
    "    date_column = f\"{y_year}-{y_month}-{y_day}\"\n",
    "    table = table.rename(columns={'ticket_id':date_column})\n",
    "    \n",
    "    return table\n",
    "\n",
    "\n",
    "zayv_na_pokup = ExcelReview(zayv_na_pokup)\n",
    "zayv_na_pokup.df = make_table_zayv_na_pokup(zayv_na_pokup.get_table())\n",
    "#zayv_na_pokup.load_full_table('1plph8ILPblP1G_Mnk58VP02pf2jZ7eiTtgb2IVi5AFo', 'ЗаявкиНаПокупкуДень', 'a1')\n",
    "zayv_na_pokup.load_by_day('1plph8ILPblP1G_Mnk58VP02pf2jZ7eiTtgb2IVi5AFo', 'ЗаявкиНаПокупкуДень', 'realtor', ['u_city'])"
   ]
  },
  {
   "cell_type": "code",
   "execution_count": null,
   "metadata": {},
   "outputs": [],
   "source": []
  },
  {
   "cell_type": "code",
   "execution_count": 20,
   "metadata": {},
   "outputs": [],
   "source": [
    "temp_df['ticket_id'] = temp_df['ticket_id'].astype(str)\n",
    "temp_df = temp_df.pivot_table('ticket_id', ['realtor', 'u_city'], aggfunc='count')\n",
    "temp_df = temp_df.reset_index()\n",
    "date_column = f\"{y_year}-{y_month}-{y_day}\"\n",
    "temp_df = temp_df.rename(columns={'ticket_id':date_column})"
   ]
  },
  {
   "cell_type": "code",
   "execution_count": 21,
   "metadata": {},
   "outputs": [
    {
     "data": {
      "text/html": [
       "<div>\n",
       "<style scoped>\n",
       "    .dataframe tbody tr th:only-of-type {\n",
       "        vertical-align: middle;\n",
       "    }\n",
       "\n",
       "    .dataframe tbody tr th {\n",
       "        vertical-align: top;\n",
       "    }\n",
       "\n",
       "    .dataframe thead th {\n",
       "        text-align: right;\n",
       "    }\n",
       "</style>\n",
       "<table border=\"1\" class=\"dataframe\">\n",
       "  <thead>\n",
       "    <tr style=\"text-align: right;\">\n",
       "      <th></th>\n",
       "      <th>realtor</th>\n",
       "      <th>u_city</th>\n",
       "      <th>2023-11-15</th>\n",
       "    </tr>\n",
       "  </thead>\n",
       "  <tbody>\n",
       "    <tr>\n",
       "      <th>0</th>\n",
       "      <td>Aelita Muradian</td>\n",
       "      <td>Dubai</td>\n",
       "      <td>1</td>\n",
       "    </tr>\n",
       "    <tr>\n",
       "      <th>1</th>\n",
       "      <td>Akmal Shaimov</td>\n",
       "      <td>Dubai</td>\n",
       "      <td>1</td>\n",
       "    </tr>\n",
       "    <tr>\n",
       "      <th>2</th>\n",
       "      <td>Aleksandr Maslov (Александр Маслов)</td>\n",
       "      <td>Dubai</td>\n",
       "      <td>1</td>\n",
       "    </tr>\n",
       "    <tr>\n",
       "      <th>3</th>\n",
       "      <td>Allahverdiyev Vidadi</td>\n",
       "      <td>Antalya</td>\n",
       "      <td>1</td>\n",
       "    </tr>\n",
       "    <tr>\n",
       "      <th>4</th>\n",
       "      <td>Anjelica Yakunina (Анжелика Якунина)</td>\n",
       "      <td>Dubai</td>\n",
       "      <td>1</td>\n",
       "    </tr>\n",
       "    <tr>\n",
       "      <th>...</th>\n",
       "      <td>...</td>\n",
       "      <td>...</td>\n",
       "      <td>...</td>\n",
       "    </tr>\n",
       "    <tr>\n",
       "      <th>4765</th>\n",
       "      <td>тест Гореев</td>\n",
       "      <td>Калуга</td>\n",
       "      <td>1</td>\n",
       "    </tr>\n",
       "    <tr>\n",
       "      <th>4766</th>\n",
       "      <td>Қазтай Дархан Армантайұлы</td>\n",
       "      <td>Кокшетау</td>\n",
       "      <td>1</td>\n",
       "    </tr>\n",
       "    <tr>\n",
       "      <th>4767</th>\n",
       "      <td>Қалабеков Ерсұлтан Ерғалиұлы</td>\n",
       "      <td>Шымкент</td>\n",
       "      <td>1</td>\n",
       "    </tr>\n",
       "    <tr>\n",
       "      <th>4768</th>\n",
       "      <td>Құрбан Галия Ғалымжанқызы</td>\n",
       "      <td>Шымкент</td>\n",
       "      <td>1</td>\n",
       "    </tr>\n",
       "    <tr>\n",
       "      <th>4769</th>\n",
       "      <td>Құрмаш Арайлым Жасұзаққызы</td>\n",
       "      <td>Шымкент</td>\n",
       "      <td>1</td>\n",
       "    </tr>\n",
       "  </tbody>\n",
       "</table>\n",
       "<p>4770 rows × 3 columns</p>\n",
       "</div>"
      ],
      "text/plain": [
       "                                   realtor    u_city  2023-11-15\n",
       "0                          Aelita Muradian     Dubai           1\n",
       "1                            Akmal Shaimov     Dubai           1\n",
       "2      Aleksandr Maslov (Александр Маслов)     Dubai           1\n",
       "3                     Allahverdiyev Vidadi   Antalya           1\n",
       "4     Anjelica Yakunina (Анжелика Якунина)     Dubai           1\n",
       "...                                    ...       ...         ...\n",
       "4765                           тест Гореев    Калуга           1\n",
       "4766             Қазтай Дархан Армантайұлы  Кокшетау           1\n",
       "4767          Қалабеков Ерсұлтан Ерғалиұлы   Шымкент           1\n",
       "4768             Құрбан Галия Ғалымжанқызы   Шымкент           1\n",
       "4769            Құрмаш Арайлым Жасұзаққызы   Шымкент           1\n",
       "\n",
       "[4770 rows x 3 columns]"
      ]
     },
     "execution_count": 21,
     "metadata": {},
     "output_type": "execute_result"
    }
   ],
   "source": [
    "temp_df"
   ]
  },
  {
   "cell_type": "code",
   "execution_count": null,
   "metadata": {},
   "outputs": [],
   "source": [
    "objects_in_base = {}"
   ]
  },
  {
   "cell_type": "code",
   "execution_count": null,
   "metadata": {},
   "outputs": [],
   "source": [
    "podborki = {}"
   ]
  },
  {
   "cell_type": "code",
   "execution_count": null,
   "metadata": {},
   "outputs": [],
   "source": [
    "pokazi_pokupatel = {}"
   ]
  },
  {
   "cell_type": "code",
   "execution_count": null,
   "metadata": {},
   "outputs": [],
   "source": [
    "ipotech_consult = {}"
   ]
  },
  {
   "cell_type": "code",
   "execution_count": null,
   "metadata": {},
   "outputs": [],
   "source": [
    "zayv_ipotek_bank = {}"
   ]
  },
  {
   "cell_type": "code",
   "execution_count": null,
   "metadata": {},
   "outputs": [],
   "source": []
  },
  {
   "cell_type": "code",
   "execution_count": null,
   "metadata": {},
   "outputs": [],
   "source": []
  },
  {
   "cell_type": "code",
   "execution_count": null,
   "metadata": {},
   "outputs": [],
   "source": []
  },
  {
   "cell_type": "code",
   "execution_count": null,
   "metadata": {},
   "outputs": [],
   "source": [
    "#load_by_day - обновляет таблицу на ежедневной основе\n",
    "#load_full_table - загружает первый день в начале месяца\n",
    "#для make_sort_table нужны поля из таблицы, которые влияют на merge"
   ]
  },
  {
   "cell_type": "code",
   "execution_count": null,
   "metadata": {},
   "outputs": [],
   "source": [
    "#выкачать всю таблицу, сделать merge со всей таблицей\n",
    "#т.к. в таблице сгрупированные данные выкачиваться и закачиваться будет не долго"
   ]
  }
 ],
 "metadata": {
  "kernelspec": {
   "display_name": "Python 3",
   "language": "python",
   "name": "python3"
  },
  "language_info": {
   "codemirror_mode": {
    "name": "ipython",
    "version": 3
   },
   "file_extension": ".py",
   "mimetype": "text/x-python",
   "name": "python",
   "nbconvert_exporter": "python",
   "pygments_lexer": "ipython3",
   "version": "3.9.0"
  },
  "orig_nbformat": 4
 },
 "nbformat": 4,
 "nbformat_minor": 2
}
